{
 "cells": [
  {
   "cell_type": "markdown",
   "metadata": {},
   "source": [
    "# Convex Hull with Graham's Algorithm\n",
    "Michael Macfarlan"
   ]
  },
  {
   "cell_type": "code",
   "execution_count": 1,
   "metadata": {},
   "outputs": [],
   "source": [
    "import numpy as np\n",
    "import matplotlib.pyplot as plt\n",
    "import random"
   ]
  },
  {
   "cell_type": "markdown",
   "metadata": {},
   "source": [
    "\n",
    "1. Let 𝑝1 be the point with the smallest 𝑦-coordinate (and smallest 𝑥-coordinate if multiple points have the same minimum-𝑦 coordinate) 𝑂(𝑛)\n",
    "2. Add 𝑝1 to the convex hull 𝐶 (represented as a stack)  𝑂(1)\n",
    "3. Sort all of the points based on their angle relative to 𝑝1  𝑂(𝑛 log 𝑛)\n",
    "4. For each of the points 𝑝𝑖 in sorted order:  𝑂(1)\n",
    "- Try adding 𝑝𝑖 to the convex hull 𝐶\n",
    "- If adding 𝑝𝑖 makes 𝐶 non-convex, then remove the last component of 𝐶 and repeat this check\n",
    "\n",
    "Runtime: 𝑂(𝑛 log 𝑛)"
   ]
  },
  {
   "cell_type": "code",
   "execution_count": 23,
   "metadata": {},
   "outputs": [
    {
     "name": "stdout",
     "output_type": "stream",
     "text": [
      "Start point: (53, 5)\n",
      "Sorted points after angle sorting: [(93, 9), (96, 12), (77, 18), (100, 38), (62, 13), (79, 32), (74, 27), (87, 42), (64, 17), (92, 51), (72, 28), (73, 30), (66, 33), (85, 80), (90, 100), (78, 81), (69, 57), (63, 42), (70, 75), (61, 45), (62, 51), (68, 90), (61, 56), (60, 71), (55, 40), (49, 97), (49, 40), (41, 90), (42, 69), (37, 90), (40, 65), (38, 70), (31, 93), (33, 65), (36, 56), (26, 77), (26, 70), (15, 70), (11, 76), (7, 70), (0, 78), (37, 23), (12, 45), (36, 17), (30, 18), (39, 12), (8, 24), (11, 10), (1, 11)]\n",
      "Final Hull: [(53, 5), (93, 9), (96, 12), (100, 38), (90, 100), (49, 97), (31, 93), (0, 78), (1, 11)]\n",
      "All hull points are in the original list.\n"
     ]
    }
   ],
   "source": [
    "def angle(p1, p2):\n",
    "    return np.arctan2(p2[1] - p1[1], p2[0] - p1[0])\n",
    "\n",
    "def leftturn(p1, p2, p3):\n",
    "    return (p2[0] - p1[0]) * (p3[1] - p1[1]) - (p2[1] - p1[1]) * (p3[0] - p1[0]) > 0\n",
    "\n",
    "\n",
    "def grahams(original_points):\n",
    "    # copy the points to preserve the original list\n",
    "    points = original_points[:]\n",
    "    \n",
    "    # find the point with the smallest y coordinate\n",
    "    start = min(points, key=lambda p: (p[1], p[0]))\n",
    "    points.remove(start)\n",
    "\n",
    "    # sort the points by the angle with the start point\n",
    "    sorted_points = sorted(points, key=lambda p: angle(start, p))\n",
    "\n",
    "    # initialize hull with start point\n",
    "    hull = [start]\n",
    "\n",
    "    # add points to the hull\n",
    "    for point in sorted_points:\n",
    "        while len(hull) > 1 and not leftturn(hull[-2], hull[-1], point):\n",
    "            hull.pop()  # pop if NOT a left turn, which means it is a right turn.\n",
    "        hull.append(point)\n",
    "\n",
    "    print(\"Start point:\", start)\n",
    "    print(\"Sorted points after angle sorting:\", sorted_points)\n",
    "    print(\"Final Hull:\", hull)\n",
    "\n",
    "    return hull\n"
   ]
  },
  {
   "cell_type": "markdown",
   "metadata": {},
   "source": [
    "### Testing"
   ]
  },
  {
   "cell_type": "code",
   "execution_count": null,
   "metadata": {},
   "outputs": [],
   "source": [
    "# create points\n",
    "random.seed(0)\n",
    "points = [(random.randint(0, 100), random.randint(0, 100)) for _ in range(50)]"
   ]
  },
  {
   "cell_type": "code",
   "execution_count": null,
   "metadata": {},
   "outputs": [],
   "source": [
    "# call the function with the original points\n",
    "hull = grahams(points)\n",
    "\n",
    "# Verify that all points in the hull are from the original points list\n",
    "if all(point in points for point in hull):\n",
    "    print(\"All hull points are in the original list.\")\n",
    "else:\n",
    "    print(\"There are hull points not present in the original list.\")"
   ]
  },
  {
   "cell_type": "code",
   "execution_count": 24,
   "metadata": {},
   "outputs": [
    {
     "data": {
      "image/png": "[encoded data removed]",
      "text/plain": [
       "<Figure size 640x480 with 1 Axes>"
      ]
     },
     "metadata": {},
     "output_type": "display_data"
    }
   ],
   "source": [
    "# decompose the list of tuples into two lists, one for x and one for y\n",
    "x, y = zip(*points)\n",
    "hx, hy = zip(*hull + [hull[0]])  # add the first point to the end to close the hull\n",
    "\n",
    "# plot original points in blue\n",
    "plt.scatter(x, y, color='blue')\n",
    "# draw hull lines in red\n",
    "plt.plot(hx, hy, 'r-')\n",
    "plt.show()"
   ]
  }
 ],
 "metadata": {
  "kernelspec": {
   "display_name": "base",
   "language": "python",
   "name": "python3"
  },
  "language_info": {
   "codemirror_mode": {
    "name": "ipython",
    "version": 3
   },
   "file_extension": ".py",
   "mimetype": "text/x-python",
   "name": "python",
   "nbconvert_exporter": "python",
   "pygments_lexer": "ipython3",
   "version": "3.9.13"
  }
 },
 "nbformat": 4,
 "nbformat_minor": 2
}
